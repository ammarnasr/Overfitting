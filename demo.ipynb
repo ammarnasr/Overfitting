{
 "cells": [
  {
   "cell_type": "code",
   "execution_count": null,
   "metadata": {},
   "outputs": [],
   "source": [
    "from mlp.test_methods import test_dropout_layer\n",
    "import numpy as np\n",
    "\n",
    "fprop_test, fprop_output, fprop_correct, \\\n",
    "bprop_test, bprop_output, bprop_correct = test_dropout_layer()\n",
    "\n",
    "assert fprop_test == 1.0, (\n",
    "'The dropout layer fprop functionality test failed'\n",
    "'Correct output is \\n\\n{0}\\n\\n but returned output is \\n\\n{1}\\n\\n difference is \\n\\n{2}'\n",
    ".format(fprop_correct, fprop_output, fprop_output-fprop_correct)\n",
    ")\n",
    "\n",
    "print(\"Dropout Layer Fprop Functionality Test Passed\")\n",
    "\n",
    "assert bprop_test == 1.0, (\n",
    "'The dropout layer bprop functionality test failed'\n",
    "'Correct output is \\n\\n{0}\\n\\n but returned output is \\n\\n{1}\\n\\n difference is \\n\\n{2}'\n",
    ".format(bprop_correct, bprop_output, bprop_output-bprop_correct)\n",
    ")\n",
    "\n",
    "print(\"Dropout Layer Bprop Test Passed\")"
   ]
  },
  {
   "cell_type": "code",
   "execution_count": null,
   "metadata": {},
   "outputs": [],
   "source": []
  },
  {
   "cell_type": "code",
   "execution_count": null,
   "metadata": {},
   "outputs": [],
   "source": []
  },
  {
   "cell_type": "code",
   "execution_count": null,
   "metadata": {},
   "outputs": [],
   "source": []
  },
  {
   "cell_type": "code",
   "execution_count": null,
   "metadata": {},
   "outputs": [],
   "source": []
  },
  {
   "cell_type": "code",
   "execution_count": null,
   "metadata": {},
   "outputs": [],
   "source": []
  },
  {
   "cell_type": "code",
   "execution_count": null,
   "metadata": {},
   "outputs": [],
   "source": []
  },
  {
   "cell_type": "code",
   "execution_count": null,
   "metadata": {},
   "outputs": [],
   "source": [
    "import numpy as np\n",
    "import os\n",
    "from mlp.layers import StochasticLayer\n",
    "\n",
    "\n",
    "class DropoutLayer(StochasticLayer):\n",
    "    def __init__(self, rng=None, incl_prob=0.5, share_across_batch=True):\n",
    "        super(DropoutLayer, self).__init__(rng)\n",
    "        assert incl_prob > 0. and incl_prob <= 1.\n",
    "        self.incl_prob = incl_prob\n",
    "        self.share_across_batch = share_across_batch\n",
    "        self.rng = rng\n",
    "\n",
    "    def fprop(self, inputs, stochastic=True):\n",
    "        p = (self.rng.uniform(size = inputs.shape) <self.incl_prob)\n",
    "        p = np.multiply(p,inputs)\n",
    "        print('FPROP')\n",
    "        return p\n",
    "        \n",
    "\n",
    "    def bprop(self, inputs, outputs, grads_wrt_outputs):\n",
    "        return np.multiply(grads_wrt_outputs, (outputs!=0).astype(float))\n",
    "    \n",
    "    def __repr__(self):\n",
    "        return 'DropoutLayer(incl_prob={0:.1f})'.format(self.incl_prob)\n"
   ]
  },
  {
   "cell_type": "code",
   "execution_count": null,
   "metadata": {},
   "outputs": [],
   "source": [
    "# rng = np.random.RandomState(92019)\n",
    "# x = rng.normal(loc=0, scale=5.0, size=(50, 3, 64, 64))\n",
    "# correct_outputs = np.load(os.path.join(os.environ['MLP_DATA_DIR'], 'regularization_debug_pack.npy'), allow_pickle=True).item()\n",
    "# rng = np.random.RandomState(92019)\n",
    "# layer = DropoutLayer(rng=rng)\n",
    "# out = layer.fprop(x)\n",
    "# grads = layer.bprop(inputs=x, outputs=out, grads_wrt_outputs=np.ones(x.shape))\n",
    "# fprop_test = np.allclose(correct_outputs['DropoutLayer_fprop'], out)\n",
    "# bprop_test = np.allclose(correct_outputs['DropoutLayer_bprop'], grads)\n",
    "# fprop_test, bprop_test"
   ]
  },
  {
   "cell_type": "code",
   "execution_count": null,
   "metadata": {},
   "outputs": [],
   "source": [
    "rng = np.random.RandomState(92019)\n",
    "x = rng.normal(loc=0, scale=5.0, size=(50, 3, 64, 64))\n",
    "correct_outputs = np.load(os.path.join(os.environ['MLP_DATA_DIR'], 'regularization_debug_pack.npy'), allow_pickle=True).item()\n",
    "rng = np.random.RandomState(92019)\n",
    "layer = DropoutLayer(rng=rng)\n",
    "out = layer.fprop(x)\n",
    "grads = layer.bprop(inputs=x, outputs=out, grads_wrt_outputs=np.ones(x.shape))\n",
    "true_outs = correct_outputs['DropoutLayer_fprop']\n",
    "true_grads = correct_outputs['DropoutLayer_bprop']\n",
    "fprop_test = np.allclose(true_outs, out)\n",
    "bprop_test = np.allclose(true_grads, grads)\n",
    "print(fprop_test,fprop_test)\n",
    "\n",
    "# grads = (true_outs!=0).astype(float)\n",
    "# print(np.allclose(true_grads, grads))\n",
    "\n",
    "a =out.flatten()\n",
    "b =true_outs.flatten()\n",
    "g = []\n",
    "k = 10\n",
    "switch = True\n",
    "old = -1\n",
    "for i in range(0, 50*3*64*64, 1):\n",
    "    if not np.allclose(a[i:i+5], b[i:i+5]) and switch:\n",
    "        switch = False\n",
    "        g.append(i)\n",
    "        print(f' i = {i} : Adding for the first time {g} and switch is now {switch}') \n",
    "        old = i\n",
    "        continue\n",
    "    \n",
    "    if not np.allclose(a[i:i+5], b[i:i+5]) and not switch:\n",
    "        switch = False\n",
    "        g.append(i)\n",
    "        if not i == old+1:\n",
    "            print(f' i = {i} old = {old} => {i == old+1}: Adding  for the {len(g)} time and switch is now {switch}')\n",
    "        old = i\n",
    "        \n",
    "    if len(g) ==k:\n",
    "        break\n",
    "print(g[:k])"
   ]
  },
  {
   "cell_type": "code",
   "execution_count": null,
   "metadata": {},
   "outputs": [],
   "source": []
  }
 ],
 "metadata": {
  "kernelspec": {
   "display_name": "Python 3.9.13 ('mlp')",
   "language": "python",
   "name": "python3"
  },
  "language_info": {
   "codemirror_mode": {
    "name": "ipython",
    "version": 3
   },
   "file_extension": ".py",
   "mimetype": "text/x-python",
   "name": "python",
   "nbconvert_exporter": "python",
   "pygments_lexer": "ipython3",
   "version": "3.9.13"
  },
  "orig_nbformat": 4,
  "vscode": {
   "interpreter": {
    "hash": "15a1108c086910f85ca4baff738b45dae52df791633b9cd1b62a05e2975e2a2a"
   }
  }
 },
 "nbformat": 4,
 "nbformat_minor": 2
}
